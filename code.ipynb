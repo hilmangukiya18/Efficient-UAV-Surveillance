{
  "nbformat": 4,
  "nbformat_minor": 0,
  "metadata": {
    "colab": {
      "provenance": [],
      "gpuType": "T4"
    },
    "kernelspec": {
      "name": "python3",
      "display_name": "Python 3"
    },
    "language_info": {
      "name": "python"
    },
    "accelerator": "GPU"
  },
  "cells": [
    {
      "cell_type": "code",
      "execution_count": null,
      "metadata": {
        "id": "DbW7fbD3QFxF"
      },
      "outputs": [],
      "source": [
        "from shapely.geometry import Point\n",
        "from shapely.geometry.polygon import Polygon\n",
        "import matplotlib.pyplot as plt\n",
        "from matplotlib.patches import Polygon as MatplotlibPolygon\n",
        "import numpy as np\n",
        "import cv2\n",
        "from google.colab.patches import cv2_imshow\n",
        "import math\n",
        "from scipy.spatial import distance_matrix"
      ]
    },
    {
      "cell_type": "code",
      "source": [
        "drone_area=[100,76]\n",
        "threshold= 0"
      ],
      "metadata": {
        "id": "x8-ip009QLmn"
      },
      "execution_count": null,
      "outputs": []
    },
    {
      "cell_type": "code",
      "source": [
        "y=[23.15898023692201,23.157444756331646,23.156919296250468,23.156273855979492,23.155543890020983,23.155171951102513,23.15498048198831,\n",
        "   23.15484485786686,23.154581587099432,23.154270448278822,23.154102911691528,23.153951330789162,23.15369603625015,23.154382139220647,\n",
        "   23.155610733435037,23.156679760792034,23.157070859118722,23.15726272078081,23.15755789202827,23.158731191305698,23.15897470496221,\n",
        "   23.159011600932164]\n",
        "x=[72.66370466003174,72.66278507603174,72.66247708725945,72.66214280260935,72.66170823256424,72.66246210360988,72.66287859254284,\n",
        "   72.66339052685626,72.66447513346304,72.6657246002619,72.66634065680856,72.6668178837109,72.66744261711034,72.66772895325174,\n",
        "   72.66813676533191,72.66847516258994,72.66759599859284,72.66718667521842,72.66642421011178,72.66415286668887,72.66366328383091,\n",
        "   72.6636873616764]"
      ],
      "metadata": {
        "id": "uzDVJVrkQRWB"
      },
      "execution_count": null,
      "outputs": []
    },
    {
      "cell_type": "code",
      "source": [
        "min_y=min(y)\n",
        "max_y=max(y)\n",
        "min_x=min(x)\n",
        "max_x=max(x)\n",
        "\n",
        "dis_x=[]\n",
        "dis_y=[]\n",
        "for i in range(len(x)):\n",
        "    dis_x.append((x[i]-min_x)*111000)\n",
        "    dis_y.append((y[i]-min_y)*111000)\n",
        "dis_x.append(dis_x[0])\n",
        "dis_y.append(dis_y[0])\n",
        "\n",
        "cordinates=[]\n",
        "for i in range(len(x)):\n",
        "    k=(dis_x[i],dis_y[i])\n",
        "    cordinates.append(k)\n",
        "cordinates\n",
        "\n",
        "polygon = Polygon(cordinates)\n",
        "\n",
        "x_len=(max_x-min_x)*111000\n",
        "y_len=(max_y-min_y)*111000\n",
        "\n",
        "polygon_coordinates = cordinates\n",
        "\n",
        "x_points = np.linspace(0, x_len, 10000)\n",
        "y_points = np.linspace(0, y_len, 10000)\n",
        "X, Y = np.meshgrid(x_points, y_points)\n",
        "points = np.column_stack((X.ravel(), Y.ravel()))\n",
        "\n",
        "polygon = MatplotlibPolygon(polygon_coordinates, edgecolor='blue', facecolor='black')\n",
        "\n",
        "fig, ax = plt.subplots()\n",
        "\n",
        "ax.add_patch(polygon)\n",
        "\n",
        "interior = polygon.get_path().contains_points(points)\n",
        "points_outside = points[~interior]\n",
        "plt.plot(points_outside[:, 0], points_outside[:, 1], 'wo', markersize=1)\n",
        "ax.set_axis_off()\n",
        "plt.gca().set_aspect('equal', adjustable='box')\n",
        "plt.subplots_adjust(top=1, bottom=0, right=1, left=0, hspace=0, wspace=0)\n",
        "plt.margins(0, 0)\n",
        "plt.gca().xaxis.set_major_locator(plt.NullLocator())\n",
        "plt.gca().yaxis.set_major_locator(plt.NullLocator())\n",
        "plt.savefig(\"polygon_plot.png\")\n",
        "\n",
        "image=cv2.imread('/content/polygon_plot.png',cv2.IMREAD_GRAYSCALE)\n",
        "inverted=cv2.bitwise_not(image)\n",
        "cv2.imwrite('inverted_polygon.png',inverted)\n",
        "\n",
        "image_path = '/content/inverted_polygon.png'\n",
        "image = cv2.imread(image_path, cv2.IMREAD_GRAYSCALE)\n",
        "image_h = cv2.imread(image_path)"
      ],
      "metadata": {
        "colab": {
          "base_uri": "https://localhost:8080/",
          "height": 516
        },
        "id": "zvCMi7KXQZua",
        "outputId": "2a306e2d-93c7-464d-f4ab-941e199acb9a"
      },
      "execution_count": null,
      "outputs": [
        {
          "output_type": "display_data",
          "data": {
            "text/plain": [
              "<Figure size 640x480 with 1 Axes>"
            ],
            "image/png": "[encoded data removed]"
          },
          "metadata": {}
        }
      ]
    },
    {
      "cell_type": "code",
      "source": [
        "threshold_binary_matrix_max = 128\n",
        "binary_matrix = (image > threshold_binary_matrix_max).astype(np.uint8)\n",
        "\n",
        "total_area=[x_len,y_len]\n",
        "\n",
        "fil_len1=(image.shape[1]/total_area[0])*drone_area[0]\n",
        "fil_len0=(image.shape[0]/total_area[1])*drone_area[1]\n",
        "\n",
        "fil_len0=math.ceil(fil_len0)\n",
        "fil_len1=math.ceil(fil_len1)\n",
        "\n",
        "filter_matrix = np.ones((fil_len0,fil_len1), dtype=np.uint8)\n",
        "\n",
        "matrix = binary_matrix\n",
        "\n",
        "row_add=((int(binary_matrix.shape[0]/filter_matrix.shape[0])+1)*filter_matrix.shape[0])-binary_matrix.shape[0]\n",
        "col_add=((int(binary_matrix.shape[1]/filter_matrix.shape[1])+1)*filter_matrix.shape[1])-binary_matrix.shape[1]\n",
        "\n",
        "rows_of_zeros = np.zeros((row_add, matrix.shape[1]), dtype=matrix.dtype)\n",
        "\n",
        "matrix_with_zeros_rows = np.vstack((matrix, rows_of_zeros))\n",
        "\n",
        "column_of_zeros = np.zeros((matrix_with_zeros_rows.shape[0], col_add), dtype=matrix_with_zeros_rows.dtype)\n",
        "\n",
        "final_binary = np.hstack((matrix_with_zeros_rows, column_of_zeros))\n",
        "\n",
        "result_matrix = np.zeros((int(final_binary.shape[0]/filter_matrix.shape[0]),int(final_binary.shape[1]/filter_matrix.shape[1])), dtype=np.uint8)\n",
        "\n",
        "for i in range(result_matrix.shape[0]):\n",
        "    for j in range(result_matrix.shape[1]):\n",
        "        block = final_binary[i*filter_matrix.shape[0]:i*filter_matrix.shape[0]+filter_matrix.shape[0], j*filter_matrix.shape[1]:j*filter_matrix.shape[1]+filter_matrix.shape[1]]\n",
        "        result_matrix[i, j] = np.sum(block * filter_matrix)\n",
        "\n",
        "\n",
        "matrix = np.copy(image_h)\n",
        "\n",
        "rows_of_zeros=[]\n",
        "for i in range(row_add):\n",
        "  temp=[]\n",
        "  for j in range(matrix.shape[1]):\n",
        "    temp.append([0,0,0])\n",
        "  rows_of_zeros.append(temp)\n",
        "rows_of_zeros=np.array(rows_of_zeros)\n",
        "\n",
        "matrix_with_zeros_rows = np.vstack((matrix, rows_of_zeros))\n",
        "\n",
        "column_of_zeros=[]\n",
        "for i in range(matrix.shape[0]+row_add):\n",
        "  temp=[]\n",
        "  for j in range(col_add):\n",
        "    temp.append([0,0,0])\n",
        "  column_of_zeros.append(temp)\n",
        "column_of_zeros=np.array(column_of_zeros)\n",
        "\n",
        "in_fin = np.hstack((matrix_with_zeros_rows, column_of_zeros))\n",
        "\n",
        "for y in range(result_matrix.shape[0]):\n",
        "    for x in range(result_matrix.shape[1]):\n",
        "        if result_matrix[y, x] > threshold:\n",
        "            for i in range(filter_matrix.shape[0]):\n",
        "              for j in range(filter_matrix.shape[1]):\n",
        "                in_fin[y*filter_matrix.shape[0]+i,x*filter_matrix.shape[1]+j]=[0,255,0]\n",
        "        else:\n",
        "            for i in range(filter_matrix.shape[0]):\n",
        "              for j in range(filter_matrix.shape[1]):\n",
        "                in_fin[y*filter_matrix.shape[0]+i,x*filter_matrix.shape[1]+j]=[0,0,255]"
      ],
      "metadata": {
        "id": "Gr8CeNC-QjU_"
      },
      "execution_count": null,
      "outputs": []
    },
    {
      "cell_type": "code",
      "source": [
        "temp=np.copy(in_fin)\n",
        "temp2=np.copy(in_fin)\n",
        "\n",
        "cv2_imshow(in_fin)\n"
      ],
      "metadata": {
        "colab": {
          "base_uri": "https://localhost:8080/",
          "height": 513
        },
        "id": "fHxEzXYvRIcT",
        "outputId": "95011587-1de4-4235-c99c-fd0c993cd62e"
      },
      "execution_count": null,
      "outputs": [
        {
          "output_type": "display_data",
          "data": {
            "text/plain": [
              "<PIL.Image.Image image mode=RGB size=688x496>"
            ],
            "image/png": "[encoded data removed]"
          },
          "metadata": {}
        }
      ]
    },
    {
      "cell_type": "code",
      "source": [
        "cv2.imwrite('drone_green_red.png',in_fin)\n",
        "cv2_imshow(image)"
      ],
      "metadata": {
        "colab": {
          "base_uri": "https://localhost:8080/",
          "height": 497
        },
        "id": "Y6fsHxhCRQND",
        "outputId": "6288b3d9-b6da-4bc0-a600-a47854ae5714"
      },
      "execution_count": null,
      "outputs": [
        {
          "output_type": "display_data",
          "data": {
            "text/plain": [
              "<PIL.Image.Image image mode=L size=640x480>"
            ],
            "image/png": "[encoded data removed]"
          },
          "metadata": {}
        }
      ]
    },
    {
      "cell_type": "code",
      "source": [
        "for i in range(temp.shape[0]):\n",
        "  for j in range(temp.shape[1]):\n",
        "    if ( i>=480 or j>=640 or image[i,j]==0):\n",
        "      temp[i,j]=[0,0,0]\n",
        "cv2_imshow(temp)"
      ],
      "metadata": {
        "colab": {
          "base_uri": "https://localhost:8080/",
          "height": 513
        },
        "id": "N0WC6h0fRXip",
        "outputId": "508f1f5f-e382-4b61-f101-e62879632549"
      },
      "execution_count": null,
      "outputs": [
        {
          "output_type": "display_data",
          "data": {
            "text/plain": [
              "<PIL.Image.Image image mode=RGB size=688x496>"
            ],
            "image/png": "[encoded data removed]"
          },
          "metadata": {}
        }
      ]
    },
    {
      "cell_type": "code",
      "source": [
        "for i in range(image.shape[0]):\n",
        "  for j in range(image.shape[1]):\n",
        "    if image[i,j]==255:\n",
        "      temp2[i,j]=[255,255,255]\n",
        "cv2_imshow(temp2)"
      ],
      "metadata": {
        "colab": {
          "base_uri": "https://localhost:8080/",
          "height": 513
        },
        "id": "qqgrzdEeR2sm",
        "outputId": "ad81d8c7-c321-4b66-b167-61b3f5e3abae"
      },
      "execution_count": null,
      "outputs": [
        {
          "output_type": "display_data",
          "data": {
            "text/plain": [
              "<PIL.Image.Image image mode=RGB size=688x496>"
            ],
            "image/png": "[encoded data removed]"
          },
          "metadata": {}
        }
      ]
    },
    {
      "cell_type": "code",
      "source": [
        "drone_centroids=[]\n",
        "for i in range(result_matrix.shape[0]):\n",
        "  for j in range(result_matrix.shape[1]):\n",
        "    if(result_matrix[i,j])>threshold:\n",
        "      temp=[]\n",
        "      ty=(y_len-(i*drone_area[1])+y_len-((i+1)*drone_area[1]))/2\n",
        "      tx=((j*drone_area[0])+((j+1)*drone_area[0]))/2\n",
        "      temp.append(tx)\n",
        "      temp.append(ty)\n",
        "      drone_centroids.append(temp)\n",
        "drone_centroids=np.array(drone_centroids)\n",
        "\n",
        "plt.figure()\n",
        "plt.plot(dis_x,dis_y,'r')\n",
        "plt.xlim([0,((max_x-min_x)*111000)])\n",
        "plt.ylim([0,((max_y-min_y)*111000)])\n",
        "plt.scatter(drone_centroids[:,0],drone_centroids[:,1])\n",
        "plt.savefig(\"Centroids_Plotted.png\")"
      ],
      "metadata": {
        "colab": {
          "base_uri": "https://localhost:8080/",
          "height": 430
        },
        "id": "kOpf4kc2SL-S",
        "outputId": "21343725-0e5c-4989-b878-a668f7b6cf79"
      },
      "execution_count": null,
      "outputs": [
        {
          "output_type": "display_data",
          "data": {
            "text/plain": [
              "<Figure size 640x480 with 1 Axes>"
            ],
            "image/png": "[encoded data removed]"
          },
          "metadata": {}
        }
      ]
    },
    {
      "cell_type": "code",
      "source": [
        "print('No Of Required UAVs  = ',len(drone_centroids))"
      ],
      "metadata": {
        "colab": {
          "base_uri": "https://localhost:8080/"
        },
        "id": "bneXj1R1SQKu",
        "outputId": "54ea1f4a-e628-4dff-a61b-c061e7583624"
      },
      "execution_count": null,
      "outputs": [
        {
          "output_type": "stream",
          "name": "stdout",
          "text": [
            "No Of Required UAVs  =  45\n"
          ]
        }
      ]
    },
    {
      "cell_type": "code",
      "source": [
        "uav_no=np.linspace(1,len(drone_centroids),len(drone_centroids),dtype=int)\n",
        "\n",
        "number=[]\n",
        "for i in range(len(uav_no)):\n",
        "  number.append([uav_no[i]])\n",
        "\n",
        "centroids_with_number=np.hstack((number,drone_centroids))\n",
        "print(centroids_with_number)"
      ],
      "metadata": {
        "colab": {
          "base_uri": "https://localhost:8080/"
        },
        "id": "uHPtabP_Wl2W",
        "outputId": "e5e7eeb7-668c-4df9-fd25-b3aa47e910a2"
      },
      "execution_count": null,
      "outputs": [
        {
          "output_type": "stream",
          "name": "stdout",
          "text": [
            "[[  1.        150.        552.0276797]\n",
            " [  2.        250.        552.0276797]\n",
            " [  3.        350.        552.0276797]\n",
            " [  4.        150.        476.0276797]\n",
            " [  5.        250.        476.0276797]\n",
            " [  6.        350.        476.0276797]\n",
            " [  7.        450.        476.0276797]\n",
            " [  8.        150.        400.0276797]\n",
            " [  9.        250.        400.0276797]\n",
            " [ 10.        350.        400.0276797]\n",
            " [ 11.        450.        400.0276797]\n",
            " [ 12.        550.        400.0276797]\n",
            " [ 13.        650.        400.0276797]\n",
            " [ 14.         50.        324.0276797]\n",
            " [ 15.        150.        324.0276797]\n",
            " [ 16.        250.        324.0276797]\n",
            " [ 17.        350.        324.0276797]\n",
            " [ 18.        450.        324.0276797]\n",
            " [ 19.        550.        324.0276797]\n",
            " [ 20.        650.        324.0276797]\n",
            " [ 21.        750.        324.0276797]\n",
            " [ 22.         50.        248.0276797]\n",
            " [ 23.        150.        248.0276797]\n",
            " [ 24.        250.        248.0276797]\n",
            " [ 25.        350.        248.0276797]\n",
            " [ 26.        450.        248.0276797]\n",
            " [ 27.        550.        248.0276797]\n",
            " [ 28.        650.        248.0276797]\n",
            " [ 29.        750.        248.0276797]\n",
            " [ 30.         50.        172.0276797]\n",
            " [ 31.        150.        172.0276797]\n",
            " [ 32.        250.        172.0276797]\n",
            " [ 33.        350.        172.0276797]\n",
            " [ 34.        450.        172.0276797]\n",
            " [ 35.        550.        172.0276797]\n",
            " [ 36.        650.        172.0276797]\n",
            " [ 37.        150.         96.0276797]\n",
            " [ 38.        250.         96.0276797]\n",
            " [ 39.        350.         96.0276797]\n",
            " [ 40.        450.         96.0276797]\n",
            " [ 41.        550.         96.0276797]\n",
            " [ 42.        650.         96.0276797]\n",
            " [ 43.        450.         20.0276797]\n",
            " [ 44.        550.         20.0276797]\n",
            " [ 45.        650.         20.0276797]]\n"
          ]
        }
      ]
    },
    {
      "cell_type": "code",
      "source": [
        "distances = distance_matrix(drone_centroids, drone_centroids)\n",
        "distances[0]"
      ],
      "metadata": {
        "colab": {
          "base_uri": "https://localhost:8080/"
        },
        "id": "TfgAq52GSaDN",
        "outputId": "a6bcade4-025a-4567-a53c-8a72fdaef364"
      },
      "execution_count": null,
      "outputs": [
        {
          "output_type": "execute_result",
          "data": {
            "text/plain": [
              "array([  0.        , 100.        , 200.        ,  76.        ,\n",
              "       125.60254774, 213.95326593, 309.47697814, 152.        ,\n",
              "       181.94504665, 251.20509549, 336.30938137, 427.90653185,\n",
              "       522.5935323 , 248.96586111, 228.        , 248.96586111,\n",
              "       303.2886414 , 376.80764323, 460.41720211, 549.53070888,\n",
              "       641.85979778, 320.02499902, 304.        , 320.02499902,\n",
              "       363.8900933 , 427.10186139, 502.41019098, 585.16322509,\n",
              "       672.61876275, 392.93765409, 380.        , 392.93765409,\n",
              "       429.41821107, 484.14873748, 551.72456897, 628.01273872,\n",
              "       456.        , 466.8361597 , 497.93172223, 545.83513995,\n",
              "       606.57728279, 676.70968665, 610.75690745, 665.60048077,\n",
              "       730.08492657])"
            ]
          },
          "metadata": {},
          "execution_count": 13
        }
      ]
    },
    {
      "cell_type": "code",
      "source": [
        "distance_threshold = math.sqrt(drone_area[0]**2+drone_area[1]**2)+1\n",
        "\n",
        "n = len(drone_centroids)\n",
        "neighbor_matrix = np.zeros((n, n), dtype=int)\n",
        "neighbor_matrix_number = []\n",
        "\n",
        "for i in range(n):\n",
        "    temp=[]\n",
        "    for j in range(n):\n",
        "        if i != j and np.sqrt((drone_centroids[i][0] - drone_centroids[j][0])**2 + (drone_centroids[i][1] - drone_centroids[j][1])**2) <= distance_threshold:\n",
        "            neighbor_matrix[i][j] = 1\n",
        "            temp.append(int(centroids_with_number[j,0]))\n",
        "    neighbor_matrix_number.append(temp)\n",
        "print(\"Neighbor Matrix:\")\n",
        "print(neighbor_matrix[0])\n",
        "print(neighbor_matrix_number)"
      ],
      "metadata": {
        "colab": {
          "base_uri": "https://localhost:8080/"
        },
        "id": "Xx-O4vyRToRO",
        "outputId": "db455636-d2c6-4d2c-a32c-3811c253fc49"
      },
      "execution_count": null,
      "outputs": [
        {
          "output_type": "stream",
          "name": "stdout",
          "text": [
            "Neighbor Matrix:\n",
            "[0 1 0 1 1 0 0 0 0 0 0 0 0 0 0 0 0 0 0 0 0 0 0 0 0 0 0 0 0 0 0 0 0 0 0 0 0\n",
            " 0 0 0 0 0 0 0 0]\n",
            "[[2, 4, 5], [1, 3, 4, 5, 6], [2, 5, 6, 7], [1, 2, 5, 8, 9], [1, 2, 3, 4, 6, 8, 9, 10], [2, 3, 5, 7, 9, 10, 11], [3, 6, 10, 11, 12], [4, 5, 9, 14, 15, 16], [4, 5, 6, 8, 10, 15, 16, 17], [5, 6, 7, 9, 11, 16, 17, 18], [6, 7, 10, 12, 17, 18, 19], [7, 11, 13, 18, 19, 20], [12, 19, 20, 21], [8, 15, 22, 23], [8, 9, 14, 16, 22, 23, 24], [8, 9, 10, 15, 17, 23, 24, 25], [9, 10, 11, 16, 18, 24, 25, 26], [10, 11, 12, 17, 19, 25, 26, 27], [11, 12, 13, 18, 20, 26, 27, 28], [12, 13, 19, 21, 27, 28, 29], [13, 20, 28, 29], [14, 15, 23, 30, 31], [14, 15, 16, 22, 24, 30, 31, 32], [15, 16, 17, 23, 25, 31, 32, 33], [16, 17, 18, 24, 26, 32, 33, 34], [17, 18, 19, 25, 27, 33, 34, 35], [18, 19, 20, 26, 28, 34, 35, 36], [19, 20, 21, 27, 29, 35, 36], [20, 21, 28, 36], [22, 23, 31, 37], [22, 23, 24, 30, 32, 37, 38], [23, 24, 25, 31, 33, 37, 38, 39], [24, 25, 26, 32, 34, 38, 39, 40], [25, 26, 27, 33, 35, 39, 40, 41], [26, 27, 28, 34, 36, 40, 41, 42], [27, 28, 29, 35, 41, 42], [30, 31, 32, 38], [31, 32, 33, 37, 39], [32, 33, 34, 38, 40, 43], [33, 34, 35, 39, 41, 43, 44], [34, 35, 36, 40, 42, 43, 44, 45], [35, 36, 41, 44, 45], [39, 40, 41, 44], [40, 41, 42, 43, 45], [41, 42, 44]]\n"
          ]
        }
      ]
    },
    {
      "cell_type": "code",
      "source": [
        "distance_threshold = math.sqrt(drone_area[0]**2+drone_area[1]**2)+1\n",
        "\n",
        "n = len(drone_centroids)\n",
        "distance_matrix = np.zeros((n, n), dtype=float)\n",
        "for i in range(n):\n",
        "    for j in range(n):\n",
        "        if i != j:\n",
        "            distance = np.sqrt((drone_centroids[i][0] - drone_centroids[j][0])**2 + (drone_centroids[i][1] - drone_centroids[j][1])**2)\n",
        "            if distance <= distance_threshold:\n",
        "                distance_matrix[i][j] = distance\n",
        "            else:\n",
        "                distance_matrix[i][j] = float('inf')\n",
        "\n",
        "print(\"Distance Matrix:\")\n",
        "print(distance_matrix)"
      ],
      "metadata": {
        "colab": {
          "base_uri": "https://localhost:8080/"
        },
        "id": "POpMjNIOXJGH",
        "outputId": "b1fb7c0b-3b67-4404-d933-e851055777f6"
      },
      "execution_count": null,
      "outputs": [
        {
          "output_type": "stream",
          "name": "stdout",
          "text": [
            "Distance Matrix:\n",
            "[[  0. 100.  inf ...  inf  inf  inf]\n",
            " [100.   0. 100. ...  inf  inf  inf]\n",
            " [ inf 100.   0. ...  inf  inf  inf]\n",
            " ...\n",
            " [ inf  inf  inf ...   0. 100.  inf]\n",
            " [ inf  inf  inf ... 100.   0. 100.]\n",
            " [ inf  inf  inf ...  inf 100.   0.]]\n"
          ]
        }
      ]
    },
    {
      "cell_type": "code",
      "source": [
        "centroid = np.mean(drone_centroids, axis=0)\n",
        "print(\"Centroid:\", centroid)"
      ],
      "metadata": {
        "colab": {
          "base_uri": "https://localhost:8080/"
        },
        "id": "e6yHvgDBYS-f",
        "outputId": "82cc6ff7-d877-4ad0-d6f1-a115e98dee0b"
      },
      "execution_count": null,
      "outputs": [
        {
          "output_type": "stream",
          "name": "stdout",
          "text": [
            "Centroid: [383.33333333 275.04990193]\n"
          ]
        }
      ]
    },
    {
      "cell_type": "code",
      "source": [
        "centroids_array = np.array(drone_centroids)\n",
        "distances = np.linalg.norm(centroids_array - centroid, axis=1)\n",
        "\n",
        "nearest_centroid_index = np.argmin(distances)\n",
        "\n",
        "nearest_centroid = centroids_with_number[nearest_centroid_index]\n",
        "\n",
        "print(\"Nearest Centroid:\", nearest_centroid)"
      ],
      "metadata": {
        "colab": {
          "base_uri": "https://localhost:8080/"
        },
        "id": "pmQ-hsP6YVXv",
        "outputId": "c6cb9676-d6d6-4cb7-b321-a22a4a81577d"
      },
      "execution_count": null,
      "outputs": [
        {
          "output_type": "stream",
          "name": "stdout",
          "text": [
            "Nearest Centroid: [ 25.        350.        248.0276797]\n"
          ]
        }
      ]
    },
    {
      "cell_type": "code",
      "source": [
        "distance_matrix"
      ],
      "metadata": {
        "colab": {
          "base_uri": "https://localhost:8080/"
        },
        "id": "OSXw3ycJoI3-",
        "outputId": "ebfb7aaf-ddfa-4dca-d319-48042b173fef"
      },
      "execution_count": null,
      "outputs": [
        {
          "output_type": "execute_result",
          "data": {
            "text/plain": [
              "array([[  0., 100.,  inf, ...,  inf,  inf,  inf],\n",
              "       [100.,   0., 100., ...,  inf,  inf,  inf],\n",
              "       [ inf, 100.,   0., ...,  inf,  inf,  inf],\n",
              "       ...,\n",
              "       [ inf,  inf,  inf, ...,   0., 100.,  inf],\n",
              "       [ inf,  inf,  inf, ..., 100.,   0., 100.],\n",
              "       [ inf,  inf,  inf, ...,  inf, 100.,   0.]])"
            ]
          },
          "metadata": {},
          "execution_count": 18
        }
      ]
    },
    {
      "cell_type": "code",
      "source": [
        "pathloss_d0=10*math.log10((10**(-0.4)*10*10*(0.1071)**2)/(4*math.pi)**2)\n",
        "pathloss_d0"
      ],
      "metadata": {
        "id": "9PbQtLjwYXJE",
        "colab": {
          "base_uri": "https://localhost:8080/"
        },
        "outputId": "2d10dc3b-ef03-4dd6-9ae1-3ee920a5ec27"
      },
      "execution_count": null,
      "outputs": [
        {
          "output_type": "execute_result",
          "data": {
            "text/plain": [
              "-25.38840786380481"
            ]
          },
          "metadata": {},
          "execution_count": 19
        }
      ]
    },
    {
      "cell_type": "code",
      "source": [
        "n=len(distance_matrix)\n",
        "pathloss_matrix=np.zeros((n, n), dtype=float)\n",
        "for i in range(distance_matrix.shape[0]):\n",
        "  for j in range(distance_matrix.shape[1]):\n",
        "    if distance_matrix[i][j]==drone_area[0]:\n",
        "      pathloss_matrix[i][j]=pathloss_d0 + 20*math.log10(drone_area[0])\n",
        "    elif distance_matrix[i][j]==drone_area[1]:\n",
        "      pathloss_matrix[i][j]=pathloss_d0 + 20*math.log10(drone_area[1])\n",
        "    elif distance_matrix[i][j]==math.sqrt(drone_area[0]**2+drone_area[1]**2):\n",
        "      pathloss_matrix[i][j]=pathloss_d0 + 20*math.log10(math.sqrt(drone_area[0]**2+drone_area[1]**2))\n",
        "    else:\n",
        "      pathloss_matrix[i][j]=0"
      ],
      "metadata": {
        "id": "EA4yzgt9mtWk"
      },
      "execution_count": null,
      "outputs": []
    },
    {
      "cell_type": "code",
      "source": [
        "pathloss_matrix[0]"
      ],
      "metadata": {
        "colab": {
          "base_uri": "https://localhost:8080/"
        },
        "id": "yLLfOzCho3-y",
        "outputId": "810bad77-21c0-48d6-e1ec-47d25f167865"
      },
      "execution_count": null,
      "outputs": [
        {
          "output_type": "execute_result",
          "data": {
            "text/plain": [
              "array([ 0.        , 14.61159214,  0.        , 12.22786398, 16.59156111,\n",
              "        0.        ,  0.        ,  0.        ,  0.        ,  0.        ,\n",
              "        0.        ,  0.        ,  0.        ,  0.        ,  0.        ,\n",
              "        0.        ,  0.        ,  0.        ,  0.        ,  0.        ,\n",
              "        0.        ,  0.        ,  0.        ,  0.        ,  0.        ,\n",
              "        0.        ,  0.        ,  0.        ,  0.        ,  0.        ,\n",
              "        0.        ,  0.        ,  0.        ,  0.        ,  0.        ,\n",
              "        0.        ,  0.        ,  0.        ,  0.        ,  0.        ,\n",
              "        0.        ,  0.        ,  0.        ,  0.        ,  0.        ])"
            ]
          },
          "metadata": {},
          "execution_count": 21
        }
      ]
    },
    {
      "cell_type": "code",
      "source": [
        "tau_matrix=np.sqrt(pathloss_matrix)\n",
        "tau_matrix[0]"
      ],
      "metadata": {
        "colab": {
          "base_uri": "https://localhost:8080/"
        },
        "id": "WEq5Du-rpiPs",
        "outputId": "18258478-8e2b-4919-cfc0-74f60d15082b"
      },
      "execution_count": null,
      "outputs": [
        {
          "output_type": "execute_result",
          "data": {
            "text/plain": [
              "array([0.        , 3.82251123, 0.        , 3.49683628, 4.073274  ,\n",
              "       0.        , 0.        , 0.        , 0.        , 0.        ,\n",
              "       0.        , 0.        , 0.        , 0.        , 0.        ,\n",
              "       0.        , 0.        , 0.        , 0.        , 0.        ,\n",
              "       0.        , 0.        , 0.        , 0.        , 0.        ,\n",
              "       0.        , 0.        , 0.        , 0.        , 0.        ,\n",
              "       0.        , 0.        , 0.        , 0.        , 0.        ,\n",
              "       0.        , 0.        , 0.        , 0.        , 0.        ,\n",
              "       0.        , 0.        , 0.        , 0.        , 0.        ])"
            ]
          },
          "metadata": {},
          "execution_count": 22
        }
      ]
    },
    {
      "cell_type": "code",
      "source": [
        "n=len(distance_matrix)\n",
        "uplink_pathloss=np.zeros((n, n), dtype=float)\n",
        "for i in range(distance_matrix.shape[0]):\n",
        "  for j in range(distance_matrix.shape[1]):\n",
        "    if distance_matrix[i][j]==drone_area[0]:\n",
        "      uplink_pathloss[i][j] = tau_matrix[i][j] * (drone_area[0])**2\n",
        "    elif distance_matrix[i][j]==drone_area[1]:\n",
        "      uplink_pathloss[i][j] = tau_matrix[i][j] * (drone_area[1])**2\n",
        "    elif distance_matrix[i][j]==math.sqrt(drone_area[0]**2+drone_area[1]**2):\n",
        "      uplink_pathloss[i][j] = tau_matrix[i][j] * (math.sqrt(drone_area[0]**2+drone_area[1]**2))**2\n",
        "    else:\n",
        "      uplink_pathloss[i][j]=0"
      ],
      "metadata": {
        "id": "oayg5kRiqKdW"
      },
      "execution_count": null,
      "outputs": []
    },
    {
      "cell_type": "code",
      "source": [
        "uplink_pathloss[0]"
      ],
      "metadata": {
        "colab": {
          "base_uri": "https://localhost:8080/"
        },
        "id": "nK_ObMJyrGwH",
        "outputId": "2ca8e270-ebbe-4abf-ec39-c3762e162c03"
      },
      "execution_count": null,
      "outputs": [
        {
          "output_type": "execute_result",
          "data": {
            "text/plain": [
              "array([    0.        , 38225.1123428 ,     0.        , 20197.72636376,\n",
              "       64259.97068808,     0.        ,     0.        ,     0.        ,\n",
              "           0.        ,     0.        ,     0.        ,     0.        ,\n",
              "           0.        ,     0.        ,     0.        ,     0.        ,\n",
              "           0.        ,     0.        ,     0.        ,     0.        ,\n",
              "           0.        ,     0.        ,     0.        ,     0.        ,\n",
              "           0.        ,     0.        ,     0.        ,     0.        ,\n",
              "           0.        ,     0.        ,     0.        ,     0.        ,\n",
              "           0.        ,     0.        ,     0.        ,     0.        ,\n",
              "           0.        ,     0.        ,     0.        ,     0.        ,\n",
              "           0.        ,     0.        ,     0.        ,     0.        ,\n",
              "           0.        ])"
            ]
          },
          "metadata": {},
          "execution_count": 24
        }
      ]
    },
    {
      "cell_type": "code",
      "source": [
        "n=len(distance_matrix)\n",
        "rayleigh_matrix=np.zeros((n, n), dtype=float)\n",
        "for i in range(distance_matrix.shape[0]):\n",
        "  for j in range(distance_matrix.shape[1]):\n",
        "    if distance_matrix[i][j]!=0 and distance_matrix[i][j]!=float('inf'):\n",
        "      rayleigh_matrix[i][j]=np.random.rand()\n",
        "    else:\n",
        "      rayleigh_matrix[i][j]=0"
      ],
      "metadata": {
        "id": "phZi1LanoIy6"
      },
      "execution_count": null,
      "outputs": []
    },
    {
      "cell_type": "code",
      "source": [
        "rayleigh_matrix"
      ],
      "metadata": {
        "colab": {
          "base_uri": "https://localhost:8080/"
        },
        "id": "lW3ql31ZazkA",
        "outputId": "4c0da218-2ec7-4474-c3ca-b5b2d542ebb2"
      },
      "execution_count": null,
      "outputs": [
        {
          "output_type": "execute_result",
          "data": {
            "text/plain": [
              "array([[0.        , 0.28622918, 0.        , ..., 0.        , 0.        ,\n",
              "        0.        ],\n",
              "       [0.50689341, 0.        , 0.77666719, ..., 0.        , 0.        ,\n",
              "        0.        ],\n",
              "       [0.        , 0.73858248, 0.        , ..., 0.        , 0.        ,\n",
              "        0.        ],\n",
              "       ...,\n",
              "       [0.        , 0.        , 0.        , ..., 0.        , 0.15927235,\n",
              "        0.        ],\n",
              "       [0.        , 0.        , 0.        , ..., 0.67596564, 0.        ,\n",
              "        0.31171436],\n",
              "       [0.        , 0.        , 0.        , ..., 0.        , 0.0994854 ,\n",
              "        0.        ]])"
            ]
          },
          "metadata": {},
          "execution_count": 26
        }
      ]
    },
    {
      "cell_type": "code",
      "source": [
        "snr=10**(-0.4)*(np.divide(rayleigh_matrix,uplink_pathloss))/(10**(-20.4)*360*10**3)"
      ],
      "metadata": {
        "colab": {
          "base_uri": "https://localhost:8080/"
        },
        "id": "jc-5YxNgrtUe",
        "outputId": "d6b4653b-c73c-4f9d-e96e-bd955c05009d"
      },
      "execution_count": null,
      "outputs": [
        {
          "output_type": "stream",
          "name": "stderr",
          "text": [
            "<ipython-input-27-ec401b850e6f>:1: RuntimeWarning: invalid value encountered in divide\n",
            "  snr=10**(-0.4)*(np.divide(rayleigh_matrix,uplink_pathloss))/(10**(-20.4)*360*10**3)\n"
          ]
        }
      ]
    },
    {
      "cell_type": "code",
      "source": [
        "snr[0]"
      ],
      "metadata": {
        "colab": {
          "base_uri": "https://localhost:8080/"
        },
        "id": "v7oxWcoEs4l6",
        "outputId": "81ee7aa7-4b98-4354-9cfe-a7895f8a62fd"
      },
      "execution_count": null,
      "outputs": [
        {
          "output_type": "execute_result",
          "data": {
            "text/plain": [
              "array([           nan, 2.07999665e+09,            nan, 4.84926194e+09,\n",
              "       1.90637312e+08,            nan,            nan,            nan,\n",
              "                  nan,            nan,            nan,            nan,\n",
              "                  nan,            nan,            nan,            nan,\n",
              "                  nan,            nan,            nan,            nan,\n",
              "                  nan,            nan,            nan,            nan,\n",
              "                  nan,            nan,            nan,            nan,\n",
              "                  nan,            nan,            nan,            nan,\n",
              "                  nan,            nan,            nan,            nan,\n",
              "                  nan,            nan,            nan,            nan,\n",
              "                  nan,            nan,            nan,            nan,\n",
              "                  nan])"
            ]
          },
          "metadata": {},
          "execution_count": 28
        }
      ]
    },
    {
      "cell_type": "code",
      "source": [
        "one_matrix=np.ones((n, n), dtype=float)\n",
        "channel_capacity=(360*10**3) * np.log2(one_matrix + snr)"
      ],
      "metadata": {
        "id": "Yf9jnOpfs-Um"
      },
      "execution_count": null,
      "outputs": []
    },
    {
      "cell_type": "code",
      "source": [
        "channel_capacity[0]"
      ],
      "metadata": {
        "id": "AqyQldUEbCfH",
        "colab": {
          "base_uri": "https://localhost:8080/"
        },
        "outputId": "62b8c052-c87d-4188-db47-29c23f48643b"
      },
      "execution_count": null,
      "outputs": [
        {
          "output_type": "execute_result",
          "data": {
            "text/plain": [
              "array([              nan, 11143416.26133933,               nan,\n",
              "       11583042.4937702 ,  9902251.90205198,               nan,\n",
              "                     nan,               nan,               nan,\n",
              "                     nan,               nan,               nan,\n",
              "                     nan,               nan,               nan,\n",
              "                     nan,               nan,               nan,\n",
              "                     nan,               nan,               nan,\n",
              "                     nan,               nan,               nan,\n",
              "                     nan,               nan,               nan,\n",
              "                     nan,               nan,               nan,\n",
              "                     nan,               nan,               nan,\n",
              "                     nan,               nan,               nan,\n",
              "                     nan,               nan,               nan,\n",
              "                     nan,               nan,               nan,\n",
              "                     nan,               nan,               nan])"
            ]
          },
          "metadata": {},
          "execution_count": 30
        }
      ]
    },
    {
      "cell_type": "code",
      "source": [
        "drone_graph={}\n",
        "for i in range(len(channel_capacity)):\n",
        "  temp={}\n",
        "  for j in range(len(channel_capacity[i])):\n",
        "    if np.isnan(channel_capacity[i][j])==False:\n",
        "      temp[j]=channel_capacity[i][j]\n",
        "  drone_graph[i]=temp"
      ],
      "metadata": {
        "id": "MGWJBf8XqDlw"
      },
      "execution_count": null,
      "outputs": []
    },
    {
      "cell_type": "code",
      "source": [
        "drone_graph"
      ],
      "metadata": {
        "colab": {
          "base_uri": "https://localhost:8080/"
        },
        "id": "FmnuJ8G5qYkI",
        "outputId": "e38e2542-4277-435b-8484-b957f59d4ae0"
      },
      "execution_count": null,
      "outputs": [
        {
          "output_type": "execute_result",
          "data": {
            "text/plain": [
              "{0: {1: 11143416.26133933, 3: 11583042.493770197, 4: 9902251.902051976},\n",
              " 1: {0: 11440240.45171019,\n",
              "  2: 11661861.537463222,\n",
              "  3: 10553503.2818156,\n",
              "  4: 11548521.633256473,\n",
              "  5: 9401772.137852432},\n",
              " 2: {1: 11635748.039733285,\n",
              "  4: 11410879.992691277,\n",
              "  5: 10904433.182192527,\n",
              "  6: 11169271.724087084},\n",
              " 3: {0: 12011814.350392833,\n",
              "  1: 11033271.096880568,\n",
              "  4: 11163330.03929743,\n",
              "  7: 12118495.962511526,\n",
              "  8: 11087083.311763002},\n",
              " 4: {0: 11125475.92567196,\n",
              "  1: 12084278.298045335,\n",
              "  2: 10820172.086619753,\n",
              "  3: 10939849.381860469,\n",
              "  5: 11737455.42871573,\n",
              "  7: 11509785.083309064,\n",
              "  8: 11784436.08592436,\n",
              "  9: 10806645.106010122},\n",
              " 5: {1: 11508391.6571136,\n",
              "  2: 11987282.635616532,\n",
              "  4: 11743551.576790871,\n",
              "  6: 10993558.413709456,\n",
              "  8: 11253480.86559723,\n",
              "  9: 11625704.40985715,\n",
              "  10: 10469557.786754},\n",
              " 6: {2: 11464370.758770583,\n",
              "  5: 11696766.240044262,\n",
              "  9: 11472917.727975262,\n",
              "  10: 12012818.663928652,\n",
              "  11: 11154539.77780548},\n",
              " 7: {3: 12086239.042879786,\n",
              "  4: 11230775.813676883,\n",
              "  8: 11272529.200086158,\n",
              "  13: 10757312.915179687,\n",
              "  14: 11941037.908827467,\n",
              "  15: 11518629.267159143},\n",
              " 8: {3: 10873986.162698507,\n",
              "  4: 11432210.585092338,\n",
              "  5: 11402225.176436417,\n",
              "  7: 11379981.805557491,\n",
              "  9: 11616513.059514463,\n",
              "  14: 11074706.071333593,\n",
              "  15: 11958745.344424227,\n",
              "  16: 11137403.481198478},\n",
              " 9: {4: 11486627.15469261,\n",
              "  5: 11953143.685125314,\n",
              "  6: 11151533.652136674,\n",
              "  8: 11558611.039325671,\n",
              "  10: 11562401.913783595,\n",
              "  15: 8578261.379158216,\n",
              "  16: 11701909.033693984,\n",
              "  17: 11193139.856871303},\n",
              " 10: {5: 11038527.066033281,\n",
              "  6: 11963701.181216812,\n",
              "  9: 11432812.898780318,\n",
              "  11: 11628129.623736486,\n",
              "  16: 10530035.133897664,\n",
              "  17: 11909674.728672896,\n",
              "  18: 10513991.749961343},\n",
              " 11: {6: 10850600.206771143,\n",
              "  10: 11620455.284701617,\n",
              "  12: 11709610.234962495,\n",
              "  17: 11500974.459777147,\n",
              "  18: 11205931.294458896,\n",
              "  19: 10451508.462886428},\n",
              " 12: {11: 11501035.127886225,\n",
              "  18: 10792141.256704679,\n",
              "  19: 12122790.02676246,\n",
              "  20: 10579287.651015725},\n",
              " 13: {7: 11350081.116457947,\n",
              "  14: 10923322.319464162,\n",
              "  21: 11593110.48715712,\n",
              "  22: 11472297.624151507},\n",
              " 14: {7: 11983145.87128754,\n",
              "  8: 11218446.410213428,\n",
              "  13: 11431811.867729977,\n",
              "  15: 11723770.644836877,\n",
              "  21: 9990894.822644228,\n",
              "  22: 12052855.072998634,\n",
              "  23: 11454594.699752744},\n",
              " 15: {7: 11368669.17375189,\n",
              "  8: 11878762.061439607,\n",
              "  9: 11407593.690154567,\n",
              "  14: 11425294.254237935,\n",
              "  16: 11309010.754887613,\n",
              "  22: 9636562.080071185,\n",
              "  23: 11790897.62753315,\n",
              "  24: 11387575.122191804},\n",
              " 16: {8: 11427285.320340585,\n",
              "  9: 11327933.41342927,\n",
              "  10: 11356124.147571407,\n",
              "  15: 11030104.276895054,\n",
              "  17: 11014329.0696926,\n",
              "  23: 10791304.372520097,\n",
              "  24: 12029385.275163569,\n",
              "  25: 10296878.165910933},\n",
              " 17: {9: 10917871.45720559,\n",
              "  10: 10945116.610633634,\n",
              "  11: 11115306.614931773,\n",
              "  16: 11650772.569783766,\n",
              "  18: 10995918.577818725,\n",
              "  24: 11226177.791659478,\n",
              "  25: 11996973.474418974,\n",
              "  26: 11432962.066782482},\n",
              " 18: {10: 10916525.576642483,\n",
              "  11: 12081682.61309048,\n",
              "  12: 11371323.395876778,\n",
              "  17: 11669075.984092982,\n",
              "  19: 11331631.06055593,\n",
              "  25: 11411243.644465875,\n",
              "  26: 12093539.228924928,\n",
              "  27: 11433727.001441501},\n",
              " 19: {11: 11269760.32675902,\n",
              "  12: 12085431.057004789,\n",
              "  18: 11419939.766461676,\n",
              "  20: 9367759.02369447,\n",
              "  26: 11366161.784228686,\n",
              "  27: 11777706.721373953,\n",
              "  28: 10786253.335911551},\n",
              " 20: {12: 11111833.254442984,\n",
              "  19: 9263769.401620042,\n",
              "  27: 11464189.477716113,\n",
              "  28: 11947714.070028653},\n",
              " 21: {13: 11374148.439225972,\n",
              "  14: 11393239.866432978,\n",
              "  22: 11311385.538920881,\n",
              "  29: 11841164.21434216,\n",
              "  30: 9661895.424875619},\n",
              " 22: {13: 11177508.708172962,\n",
              "  14: 12046686.468672225,\n",
              "  15: 11248313.725267157,\n",
              "  21: 11321655.5151441,\n",
              "  23: 11651625.862794772,\n",
              "  29: 10795229.475071974,\n",
              "  30: 11347253.951126084,\n",
              "  31: 10903006.543957103},\n",
              " 23: {14: 11519313.802132672,\n",
              "  15: 11790767.606191289,\n",
              "  16: 11152874.438400138,\n",
              "  22: 11345328.16017838,\n",
              "  24: 11510266.028645866,\n",
              "  30: 10980386.320451936,\n",
              "  31: 11330126.080844972,\n",
              "  32: 10037916.939381167},\n",
              " 24: {15: 11473686.908349061,\n",
              "  16: 11317305.673460832,\n",
              "  17: 11341539.672998782,\n",
              "  23: 11613445.920419589,\n",
              "  25: 11407429.434675513,\n",
              "  31: 11208920.04840588,\n",
              "  32: 12010281.011195043,\n",
              "  33: 10633211.277723562},\n",
              " 25: {16: 11320593.955294726,\n",
              "  17: 11651486.947192589,\n",
              "  18: 10971539.023412393,\n",
              "  24: 11523419.569371069,\n",
              "  26: 11505552.93173206,\n",
              "  32: 10954588.494010247,\n",
              "  33: 11404075.21992048,\n",
              "  34: 11153253.794233562},\n",
              " 26: {17: 10996025.623200998,\n",
              "  18: 12076249.283678658,\n",
              "  19: 10795274.325160326,\n",
              "  25: 11521407.077971835,\n",
              "  27: 10560657.3700875,\n",
              "  33: 11209529.698028916,\n",
              "  34: 11564239.288791269,\n",
              "  35: 11507314.21205368},\n",
              " 27: {18: 11378686.306595763,\n",
              "  19: 12044909.38302528,\n",
              "  20: 10261016.141644327,\n",
              "  26: 11293293.891834551,\n",
              "  28: 11502067.6253912,\n",
              "  34: 11451388.545971416,\n",
              "  35: 11888711.130149022},\n",
              " 28: {19: 10353459.04117233,\n",
              "  20: 11431396.368622575,\n",
              "  27: 11288218.397692997,\n",
              "  35: 11254291.765408324},\n",
              " 29: {21: 11981407.982071452,\n",
              "  22: 10673963.843676759,\n",
              "  30: 11089248.981982743,\n",
              "  36: 10490049.43797224},\n",
              " 30: {21: 11347903.68801841,\n",
              "  22: 11444238.462572211,\n",
              "  23: 9299307.583648702,\n",
              "  29: 11642146.472860698,\n",
              "  31: 10210149.987138247,\n",
              "  36: 10573984.917377824,\n",
              "  37: 11029092.702438047},\n",
              " 31: {22: 9876245.510219842,\n",
              "  23: 12089500.014695868,\n",
              "  24: 11064780.902121479,\n",
              "  30: 10180535.255392577,\n",
              "  32: 11470342.930882085,\n",
              "  36: 10568487.894872796,\n",
              "  37: 11993083.673614474,\n",
              "  38: 10645042.61017267},\n",
              " 32: {23: 11128635.691917785,\n",
              "  24: 11808868.451617269,\n",
              "  25: 11135844.803881539,\n",
              "  31: 11681121.437103054,\n",
              "  33: 11499363.956972627,\n",
              "  37: 11133594.924775383,\n",
              "  38: 11982708.61601769,\n",
              "  39: 9418077.498531707},\n",
              " 33: {24: 11152348.812211879,\n",
              "  25: 12023627.769629834,\n",
              "  26: 11292205.175600486,\n",
              "  32: 11317221.410791598,\n",
              "  34: 11428956.134118509,\n",
              "  38: 10589678.941203073,\n",
              "  39: 11853621.11603744,\n",
              "  40: 11444314.253162682},\n",
              " 34: {25: 11492942.964644654,\n",
              "  26: 11317652.891621863,\n",
              "  27: 10914770.64473637,\n",
              "  33: 11536119.350579785,\n",
              "  35: 11526229.480451293,\n",
              "  39: 11254082.020257752,\n",
              "  40: 11705268.660037316,\n",
              "  41: 11392271.998058995},\n",
              " 35: {26: 11430540.928448077,\n",
              "  27: 10608478.257855896,\n",
              "  28: 10531980.44804668,\n",
              "  34: 11137051.80416656,\n",
              "  40: 10729967.971160488,\n",
              "  41: 11225784.710038286},\n",
              " 36: {29: 11394221.687785083,\n",
              "  30: 11960326.267655147,\n",
              "  31: 11252139.310030395,\n",
              "  37: 11575445.52644857},\n",
              " 37: {30: 10277500.408548782,\n",
              "  31: 12119869.074762026,\n",
              "  32: 11475500.386033146,\n",
              "  36: 11609037.390833594,\n",
              "  38: 11677258.565596433},\n",
              " 38: {31: 10239128.335746076,\n",
              "  32: 10469204.518365104,\n",
              "  33: 11042085.953308629,\n",
              "  37: 11658574.13722094,\n",
              "  39: 11449908.414808884,\n",
              "  42: 9818459.06811272},\n",
              " 39: {32: 11272862.581404421,\n",
              "  33: 11199835.8527896,\n",
              "  34: 10668493.503978986,\n",
              "  38: 11783176.78261528,\n",
              "  40: 11578890.098287532,\n",
              "  42: 11926614.20032274,\n",
              "  43: 11429945.808861686},\n",
              " 40: {33: 10995785.671187796,\n",
              "  34: 12079180.034838337,\n",
              "  35: 9349269.164846784,\n",
              "  39: 10677091.18745668,\n",
              "  41: 11371031.342635661,\n",
              "  42: 10951310.278402684,\n",
              "  43: 11949647.857956806,\n",
              "  44: 11177074.12379839},\n",
              " 41: {34: 10977756.936326992,\n",
              "  35: 11779566.467135452,\n",
              "  40: 11292543.51721924,\n",
              "  43: 11039517.548945108,\n",
              "  44: 11947032.021716768},\n",
              " 42: {38: 9008367.128973681,\n",
              "  39: 11553415.634124888,\n",
              "  40: 10474950.406462656,\n",
              "  43: 10838973.291349893},\n",
              " 43: {39: 10986432.537622869,\n",
              "  40: 11694255.348498749,\n",
              "  41: 11484308.555360345,\n",
              "  42: 11589736.754678497,\n",
              "  44: 11187715.652720347},\n",
              " 44: {40: 10576761.905371793, 41: 12093870.539890405, 43: 10594555.185851596}}"
            ]
          },
          "metadata": {},
          "execution_count": 32
        }
      ]
    },
    {
      "cell_type": "code",
      "source": [
        "active_drone=int(len(drone_centroids)*0.1)\n",
        "active_drone"
      ],
      "metadata": {
        "colab": {
          "base_uri": "https://localhost:8080/"
        },
        "id": "52ToDl6MqcB5",
        "outputId": "02e50fb2-6246-433f-dd07-1628b660e5e7"
      },
      "execution_count": null,
      "outputs": [
        {
          "output_type": "execute_result",
          "data": {
            "text/plain": [
              "4"
            ]
          },
          "metadata": {},
          "execution_count": 33
        }
      ]
    },
    {
      "cell_type": "code",
      "source": [
        "# import random\n",
        "# randomlist = random.sample(range(0,len(drone_centroids)),int(len(drone_centroids)*0.1))\n",
        "# print(randomlist)"
      ],
      "metadata": {
        "id": "TfjtgM0jqxSY"
      },
      "execution_count": null,
      "outputs": []
    },
    {
      "cell_type": "code",
      "source": [
        "randomlist=[4, 12, 29, 40]"
      ],
      "metadata": {
        "id": "WYkePSwhq21F"
      },
      "execution_count": null,
      "outputs": []
    },
    {
      "cell_type": "code",
      "source": [
        "def find_all_paths_th(drone_graph, start, end,threshold=float('inf'),path=[]):\n",
        "    path = path + [start]\n",
        "    if start == end:\n",
        "        return [path]\n",
        "    if start not in drone_graph:\n",
        "        return []\n",
        "    paths = []\n",
        "    for node in drone_graph[start]:\n",
        "        if node not in path and len(path)<threshold:\n",
        "            paths += find_all_paths_th(drone_graph, node, end,threshold,path)\n",
        "\n",
        "    return paths"
      ],
      "metadata": {
        "id": "azXDwTh7q4wN"
      },
      "execution_count": null,
      "outputs": []
    },
    {
      "cell_type": "code",
      "source": [
        "intial_battery_energy=87912 ## if drone is 100% charged then initial_battery_energy=(11.1*2200*3.6) joule"
      ],
      "metadata": {
        "id": "PgJGQ5MdtkAj"
      },
      "execution_count": null,
      "outputs": []
    },
    {
      "cell_type": "code",
      "source": [
        "def drone_path(drone_no,trans_data,intial_battery_energy):\n",
        "\n",
        "  ## path inintialization\n",
        "  for_one=sorted(find_all_paths_th(drone_graph, drone_no, 24,5),key=len)\n",
        "\n",
        "  ## capacity of each path\n",
        "  cap={}\n",
        "  for i in range(len(for_one)):\n",
        "    row_wise={}\n",
        "    for j in range(len(for_one[i])-1):\n",
        "      row_wise[for_one[i][j]]=drone_graph[for_one[i][j]][for_one[i][j+1]]\n",
        "    cap[i]=row_wise\n",
        "\n",
        "  ## sorting capcity in descending order\n",
        "  sorted_min_cap={}\n",
        "  for key,value in cap.items():\n",
        "    sorted_min_cap[key]=min(value.values())\n",
        "  sorted_min_cap=sorted(sorted_min_cap.items(), key=lambda item: item[1],reverse=True)\n",
        "\n",
        "  ## choose first path and calculate energy to transmit the data\n",
        "  remaining_battery_energy = intial_battery_energy - (10**(-0.4) * (trans_data/sorted_min_cap[0][1]))\n",
        "\n",
        "  ## Battery of drone\n",
        "  remaining_battery=remaining_battery_energy/intial_battery_energy\n",
        "  print(\"Battery Of The Drone is : \",remaining_battery*100,\"%\")\n",
        "\n",
        "  ## after the data transmission, energy of drone\n",
        "  battery_energy=intial_battery_energy*remaining_battery\n",
        "  print(\"After The Data Transmission Energy Of Drone: \",battery_energy,\"joule\")\n",
        "\n",
        "  ## updating cap dictionary\n",
        "  for key in cap[sorted_min_cap[0][0]]:\n",
        "    cap[sorted_min_cap[0][0]][key]*=remaining_battery\n",
        "\n",
        "  ## updating drone_graph dictionary\n",
        "  for i in range(len(for_one[sorted_min_cap[0][0]])-1):\n",
        "    drone_graph[for_one[sorted_min_cap[0][0]][i]][for_one[sorted_min_cap[0][0]][i+1]]=cap[sorted_min_cap[0][0]][for_one[sorted_min_cap[0][0]][i]]\n",
        "\n",
        "  return for_one[sorted_min_cap[0][0]]"
      ],
      "metadata": {
        "id": "UJlZRMi6q7ET"
      },
      "execution_count": null,
      "outputs": []
    },
    {
      "cell_type": "code",
      "source": [
        "drone_path(4,6000000000,intial_battery_energy)"
      ],
      "metadata": {
        "colab": {
          "base_uri": "https://localhost:8080/"
        },
        "id": "LUjCcWXvvaA3",
        "outputId": "5e387320-f873-414a-8b5d-8c8ca76e7576"
      },
      "execution_count": null,
      "outputs": [
        {
          "output_type": "stream",
          "name": "stdout",
          "text": [
            "Battery Of The Drone is :  99.76628649238596 %\n",
            "After The Data Transmission Energy Of Drone:  87706.53778118634 joule\n"
          ]
        },
        {
          "output_type": "execute_result",
          "data": {
            "text/plain": [
              "[4, 5, 9, 16, 24]"
            ]
          },
          "metadata": {},
          "execution_count": 39
        }
      ]
    },
    {
      "cell_type": "code",
      "source": [
        "drone_path(4,700000000000,87706.53778118634)"
      ],
      "metadata": {
        "colab": {
          "base_uri": "https://localhost:8080/"
        },
        "id": "4-6uyRAy2a8i",
        "outputId": "00886b58-b0f3-4eb3-87ed-16a695cf4832"
      },
      "execution_count": null,
      "outputs": [
        {
          "output_type": "stream",
          "name": "stdout",
          "text": [
            "Battery Of The Drone is :  71.76555887988555 %\n",
            "After The Data Transmission Energy Of Drone:  62943.08701286635 joule\n"
          ]
        },
        {
          "output_type": "execute_result",
          "data": {
            "text/plain": [
              "[4, 5, 8, 15, 24]"
            ]
          },
          "metadata": {},
          "execution_count": 45
        }
      ]
    },
    {
      "cell_type": "code",
      "source": [
        "drone_path(4,800000000000,62324.98660774142)"
      ],
      "metadata": {
        "colab": {
          "base_uri": "https://localhost:8080/"
        },
        "id": "6-97zX5N3Jyq",
        "outputId": "74989606-bf52-4f19-cc96-2b203b446ae9"
      },
      "execution_count": null,
      "outputs": [
        {
          "output_type": "stream",
          "name": "stdout",
          "text": [
            "Battery Of The Drone is :  55.602289111740134 %\n",
            "After The Data Transmission Energy Of Drone:  34654.1192424897 joule\n"
          ]
        },
        {
          "output_type": "execute_result",
          "data": {
            "text/plain": [
              "[4, 7, 15, 23, 24]"
            ]
          },
          "metadata": {},
          "execution_count": 41
        }
      ]
    },
    {
      "cell_type": "code",
      "source": [
        "drone_path(12,7000000000,intial_battery_energy)"
      ],
      "metadata": {
        "colab": {
          "base_uri": "https://localhost:8080/"
        },
        "id": "7JZf4Av0wGiF",
        "outputId": "28b34e66-ae58-41e9-cf3e-3ab4def82171"
      },
      "execution_count": null,
      "outputs": [
        {
          "output_type": "stream",
          "name": "stdout",
          "text": [
            "Battery Of The Drone is :  99.72437713634179 %\n",
            "After The Data Transmission Energy Of Drone:  87669.69442810079 joule\n"
          ]
        },
        {
          "output_type": "execute_result",
          "data": {
            "text/plain": [
              "[12, 11, 17, 25, 24]"
            ]
          },
          "metadata": {},
          "execution_count": 42
        }
      ]
    },
    {
      "cell_type": "code",
      "source": [
        "drone_path(29,8000000000,intial_battery_energy)"
      ],
      "metadata": {
        "colab": {
          "base_uri": "https://localhost:8080/"
        },
        "id": "Vvl8_GYh1Uvo",
        "outputId": "5a340d24-8525-4705-84b4-9f455bf167f2"
      },
      "execution_count": null,
      "outputs": [
        {
          "output_type": "stream",
          "name": "stdout",
          "text": [
            "Battery Of The Drone is :  99.68186564427086 %\n",
            "After The Data Transmission Energy Of Drone:  87632.3217251914 joule\n"
          ]
        },
        {
          "output_type": "execute_result",
          "data": {
            "text/plain": [
              "[29, 21, 14, 15, 24]"
            ]
          },
          "metadata": {},
          "execution_count": 43
        }
      ]
    },
    {
      "cell_type": "code",
      "source": [
        "drone_path(40,9000000000,intial_battery_energy)"
      ],
      "metadata": {
        "colab": {
          "base_uri": "https://localhost:8080/"
        },
        "id": "0P48SJ0z1rzX",
        "outputId": "2f90fff3-394a-4c5e-c9fa-144c05a645d6"
      },
      "execution_count": null,
      "outputs": [
        {
          "output_type": "stream",
          "name": "stdout",
          "text": [
            "Battery Of The Drone is :  99.64534046386328 %\n",
            "After The Data Transmission Energy Of Drone:  87600.21170859148 joule\n"
          ]
        },
        {
          "output_type": "execute_result",
          "data": {
            "text/plain": [
              "[40, 34, 25, 24]"
            ]
          },
          "metadata": {},
          "execution_count": 44
        }
      ]
    }
  ]
}